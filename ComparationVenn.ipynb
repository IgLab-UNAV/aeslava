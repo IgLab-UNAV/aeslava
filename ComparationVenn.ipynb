{
 "cells": [
  {
   "cell_type": "code",
   "execution_count": null,
   "id": "dd36df5f",
   "metadata": {},
   "outputs": [],
   "source": [
    "import numpy as np\n",
    "import matplotlib.pyplot as plt\n",
    "import pandas as pd\n",
    "from matplotlib_venn import venn2, venn3"
   ]
  },
  {
   "cell_type": "code",
   "execution_count": null,
   "id": "b7566005",
   "metadata": {},
   "outputs": [],
   "source": [
    "df1 = pd.read_csv(r'..\\Data_TFG\\desk_deskdefault\\tfg_counts_desktop.csv', index_col=0)\n",
    "df2 = pd.read_csv(r'..\\Data_TFG\\labs_deskdefault\\tfg_labsdesklike.csv', index_col=0)\n",
    "df3 = pd.read_csv(r'..\\Data_TFG\\labs_labsdefault\\tfg_labsdefault.csv', index_col=0)"
   ]
  },
  {
   "cell_type": "code",
   "execution_count": null,
   "id": "eb7a2f75",
   "metadata": {},
   "outputs": [],
   "source": [
    "venn3(subsets = (\n",
    "    set(df1.index),\n",
    "    set(df2.index),\n",
    "    set(df3.index)\n",
    "), set_labels = ('desktop', 'labsdesklike', 'labs'));"
   ]
  },
  {
   "cell_type": "code",
   "execution_count": null,
   "id": "39982608",
   "metadata": {},
   "outputs": [],
   "source": [
    "venn3(subsets = (\n",
    "    set(df1.loc[df1.sum(axis=1) >= 6,:].index),\n",
    "    set(df2.loc[df2.sum(axis=1) >= 6,:].index),\n",
    "    set(df3.loc[df3.sum(axis=1) >= 6,:].index)\n",
    "), set_labels = ('desktop', 'labsdesklike', 'labs'));"
   ]
  }
 ],
 "metadata": {
  "language_info": {
   "name": "python"
  }
 },
 "nbformat": 4,
 "nbformat_minor": 5
}
