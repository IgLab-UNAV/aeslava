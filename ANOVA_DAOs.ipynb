{
 "cells": [
  {
   "cell_type": "code",
   "execution_count": null,
   "id": "4be8b7c3",
   "metadata": {},
   "outputs": [],
   "source": [
    "import numpy as np\n",
    "import matplotlib.pyplot as plt\n",
    "import pandas as pd"
   ]
  },
  {
   "cell_type": "code",
   "execution_count": null,
   "id": "251d7abf",
   "metadata": {},
   "outputs": [],
   "source": [
    "df = pd.read_csv('../Data_hysso\\desk_deskdefault\\hysso_desktop_counts.csv',\n",
    "                 index_col=0)\n",
    "df"
   ]
  },
  {
   "cell_type": "code",
   "execution_count": null,
   "id": "ec29ea0d",
   "metadata": {},
   "outputs": [],
   "source": [
    "grupos = (pd.DataFrame(df.columns.to_series()\n",
    "             .str.split('_').to_dict())).iloc[0,:].to_list()\n",
    "grupos"
   ]
  },
  {
   "cell_type": "code",
   "execution_count": null,
   "id": "4799db3c",
   "metadata": {},
   "outputs": [],
   "source": [
    "unicos, cuentas = np.unique(grupos, return_counts=True)\n",
    "criba = np.min(cuentas)\n",
    "df_criba = df.loc[df.sum(axis=1) > criba, :].T\n",
    "df_criba"
   ]
  },
  {
   "cell_type": "markdown",
   "id": "ca12959b",
   "metadata": {},
   "source": [
    "CLR"
   ]
  },
  {
   "cell_type": "code",
   "execution_count": null,
   "id": "f585031e",
   "metadata": {},
   "outputs": [],
   "source": [
    "from scipy.stats.mstats import gmean\n",
    "dfclr = df_criba.replace(to_replace=0, value=1e-9).div(df_criba.replace(to_replace=0, value=1e-9).apply(gmean, axis=1), axis=0).apply(np.log)  # tabla transformada\n",
    "dfclr"
   ]
  },
  {
   "cell_type": "code",
   "execution_count": null,
   "id": "08d69673",
   "metadata": {},
   "outputs": [
    {
     "data": {
      "text/plain": [
       "L_1_1     1.364242e-12\n",
       "S_1_2     6.821210e-12\n",
       "L_1_3     1.364242e-12\n",
       "M_1_4     6.366463e-12\n",
       "C_1_5     5.911716e-12\n",
       "              ...     \n",
       "S_5_20    9.094947e-13\n",
       "S_5_21    3.183231e-12\n",
       "S_5_22    0.000000e+00\n",
       "S_5_23    1.364242e-12\n",
       "S_5_24   -9.094947e-13\n",
       "Length: 72, dtype: float64"
      ]
     },
     "metadata": {},
     "output_type": "display_data"
    }
   ],
   "source": [
    "dfclr.sum(axis=1)"
   ]
  },
  {
   "cell_type": "markdown",
   "id": "8bdabd2f",
   "metadata": {},
   "source": [
    "Separar por grupos"
   ]
  },
  {
   "cell_type": "code",
   "execution_count": null,
   "id": "910feb4a",
   "metadata": {},
   "outputs": [],
   "source": [
    "control = dfclr.loc[\n",
    "    [sam for sam in dfclr.index if 'C_' in sam],\n",
    "    :]\n",
    "leve = dfclr.loc[\n",
    "    [sam for sam in dfclr.index if 'L_' in sam],\n",
    "    :]\n",
    "moderado = dfclr.loc[\n",
    "    [sam for sam in dfclr.index if 'M_' in sam],\n",
    "    :]\n",
    "severo = dfclr.loc[\n",
    "    [sam for sam in dfclr.index if 'S_' in sam],\n",
    "    :]"
   ]
  },
  {
   "cell_type": "markdown",
   "id": "d6e207e7",
   "metadata": {},
   "source": [
    "## Análisis de la varianza (ANOVA)"
   ]
  },
  {
   "cell_type": "code",
   "execution_count": null,
   "id": "eb59ec8e",
   "metadata": {},
   "outputs": [],
   "source": [
    "from scipy.stats import f_oneway, false_discovery_control, permutation_test"
   ]
  },
  {
   "cell_type": "code",
   "execution_count": null,
   "id": "67193fbe",
   "metadata": {},
   "outputs": [],
   "source": [
    "def fisher(*x, axis=0) :\n",
    "    fstat, pvalue = f_oneway(*x, axis=axis)\n",
    "    return fstat"
   ]
  },
  {
   "cell_type": "code",
   "execution_count": null,
   "id": "f7b34f3d",
   "metadata": {},
   "outputs": [],
   "source": [
    "anova = permutation_test(data = (control, leve, moderado, severo),\n",
    "                         statistic = fisher,\n",
    "                         axis = 0,\n",
    "                         random_state = 42,\n",
    "                         vectorized = True,\n",
    "                         alternative = 'greater')"
   ]
  },
  {
   "cell_type": "code",
   "execution_count": null,
   "id": "b3049628",
   "metadata": {},
   "outputs": [],
   "source": [
    "otu_aov = pd.DataFrame({\n",
    "    'otu': list(dfclr.columns),\n",
    "    'F_stat': anova.statistic,\n",
    "    'p-valor': anova.pvalue,\n",
    "    'p-valor(BH)': false_discovery_control(anova.pvalue, method='bh')\n",
    "})\n",
    "otu_aov"
   ]
  },
  {
   "cell_type": "code",
   "execution_count": null,
   "id": "04645764",
   "metadata": {},
   "outputs": [],
   "source": [
    "otu_aov_sig = otu_aov[otu_aov['p-valor(BH)'] < 0.1]\n",
    "print(otu_aov_sig.shape)\n",
    "print(otu_aov_sig)"
   ]
  }
 ],
 "metadata": {
  "language_info": {
   "name": "python"
  }
 },
 "nbformat": 4,
 "nbformat_minor": 5
}
