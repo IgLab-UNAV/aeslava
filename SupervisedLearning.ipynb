{
 "cells": [
  {
   "cell_type": "code",
   "execution_count": null,
   "id": "55aac0e6",
   "metadata": {},
   "outputs": [],
   "source": [
    "import numpy as np\n",
    "import matplotlib.pyplot as plt\n",
    "import pandas as pd"
   ]
  },
  {
   "cell_type": "code",
   "execution_count": null,
   "id": "57cb8549",
   "metadata": {},
   "outputs": [],
   "source": [
    "df = pd.read_csv(r'..\\Data_TFG\\desk_deskdefault\\tfg_counts_desktop.csv', index_col=0)\n",
    "df"
   ]
  },
  {
   "cell_type": "code",
   "execution_count": null,
   "id": "67a63873",
   "metadata": {},
   "outputs": [],
   "source": [
    "grupos = (pd.DataFrame(df.columns.to_series()\n",
    "             .str.split('_').to_dict())).iloc[0,:].to_list()\n",
    "grupos"
   ]
  },
  {
   "cell_type": "code",
   "execution_count": null,
   "id": "c4ec13ac",
   "metadata": {},
   "outputs": [],
   "source": [
    "unicos, cuentas = np.unique(grupos, return_counts=True)\n",
    "criba = np.min(cuentas)\n",
    "df_criba = df.loc[df.sum(axis=1) > criba, :].T\n",
    "df_criba"
   ]
  },
  {
   "cell_type": "code",
   "execution_count": null,
   "id": "119af820",
   "metadata": {},
   "outputs": [],
   "source": [
    "from scipy.stats.mstats import gmean\n",
    "df_criba = df_criba.replace(to_replace=0, value=1e-9).div(df_criba.replace(to_replace=0, value=1e-9).apply(gmean, axis=1), axis=0).apply(np.log)  # tabla transformada\n",
    "df_criba"
   ]
  },
  {
   "cell_type": "code",
   "execution_count": null,
   "id": "22790094",
   "metadata": {},
   "outputs": [],
   "source": [
    "print(df_criba.sum(axis=1))\n",
    "print('')\n",
    "print(df_criba.sum(axis=1).describe())"
   ]
  },
  {
   "cell_type": "code",
   "execution_count": null,
   "id": "8ba30189",
   "metadata": {},
   "outputs": [],
   "source": [
    "from sklearn.preprocessing import StandardScaler\n",
    "escalador = StandardScaler()\n",
    "df_esc = escalador.fit_transform(df_criba)\n",
    "df_esc"
   ]
  },
  {
   "cell_type": "markdown",
   "id": "6d32d0b4",
   "metadata": {},
   "source": [
    "# Elastic Net"
   ]
  },
  {
   "cell_type": "code",
   "execution_count": null,
   "id": "78155a57",
   "metadata": {},
   "outputs": [],
   "source": [
    "from sklearn.linear_model import LogisticRegression\n",
    "mielnet = LogisticRegression(penalty='elasticnet', solver='saga')\n",
    "mielnet.fit(df_esc, grupos)"
   ]
  },
  {
   "cell_type": "code",
   "execution_count": null,
   "id": "9a22c798",
   "metadata": {},
   "outputs": [],
   "source": [
    "from sklearn.metrics import confusion_matrix, accuracy_score\n",
    "import seaborn as sns\n",
    "grupo_pred = mielnet.predict(df_esc)\n",
    "cnf = confusion_matrix(grupos, grupo_pred)\n",
    "print(f'Accuracy: {accuracy_score(grupos, grupo_pred)}')\n",
    "sns.heatmap(cnf, annot=True)"
   ]
  },
  {
   "cell_type": "code",
   "execution_count": null,
   "id": "71037b3f",
   "metadata": {},
   "outputs": [],
   "source": [
    "relevancias1 = pd.DataFrame({'OTU' : df_criba.columns, 'Relevancia' : np.abs(mielnet.coef_[0])})\n",
    "relevancias1"
   ]
  },
  {
   "cell_type": "markdown",
   "id": "e06f9f52",
   "metadata": {},
   "source": [
    "# Lasso"
   ]
  },
  {
   "cell_type": "code",
   "execution_count": null,
   "id": "54cf1853",
   "metadata": {},
   "outputs": [],
   "source": [
    "from sklearn.linear_model import LogisticRegression\n",
    "milasso = LogisticRegression(penalty='l1', solver='liblinear')\n",
    "milasso.fit(df_esc, grupos)"
   ]
  },
  {
   "cell_type": "code",
   "execution_count": null,
   "id": "3a102c40",
   "metadata": {},
   "outputs": [],
   "source": [
    "from sklearn.metrics import confusion_matrix, accuracy_score\n",
    "import seaborn as sns\n",
    "grupo_pred = milasso.predict(df_esc)\n",
    "cnf = confusion_matrix(grupos, grupo_pred)\n",
    "print(f'Accuracy: {accuracy_score(grupos, grupo_pred)}')\n",
    "sns.heatmap(cnf, annot=True)"
   ]
  },
  {
   "cell_type": "code",
   "execution_count": null,
   "id": "81fcc3a6",
   "metadata": {},
   "outputs": [],
   "source": [
    "relevancias1 = pd.DataFrame({'OTU' : df_criba.columns, 'Relevancia' : np.abs(milasso.coef_[0])})\n",
    "relevancias1"
   ]
  },
  {
   "cell_type": "markdown",
   "id": "eac4dada",
   "metadata": {},
   "source": [
    "# RandomForest"
   ]
  },
  {
   "cell_type": "code",
   "execution_count": null,
   "id": "30a35e8d",
   "metadata": {},
   "outputs": [],
   "source": [
    "from sklearn.ensemble import RandomForestClassifier\n",
    "mibosque = RandomForestClassifier()\n",
    "mibosque.fit(df_esc, grupos)"
   ]
  },
  {
   "cell_type": "code",
   "execution_count": null,
   "id": "3a0f7423",
   "metadata": {},
   "outputs": [],
   "source": [
    "from sklearn.metrics import confusion_matrix\n",
    "import seaborn as sns\n",
    "grupo_pred = mibosque.predict(df_esc)\n",
    "cnf = confusion_matrix(grupos, grupo_pred)\n",
    "sns.heatmap(cnf, annot=True)"
   ]
  },
  {
   "cell_type": "code",
   "execution_count": null,
   "id": "645786de",
   "metadata": {},
   "outputs": [],
   "source": [
    "relevancias1 = pd.DataFrame({'OTU' : df_criba.columns, 'Relevancia' : mibosque.feature_importances_})\n",
    "relevancias1"
   ]
  }
 ],
 "metadata": {
  "language_info": {
   "name": "python"
  }
 },
 "nbformat": 4,
 "nbformat_minor": 5
}
