{
 "cells": [
  {
   "cell_type": "code",
   "execution_count": null,
   "id": "145eb845",
   "metadata": {},
   "outputs": [],
   "source": [
    "import numpy as np\n",
    "import matplotlib.pyplot as plt\n",
    "import pandas as pd"
   ]
  },
  {
   "cell_type": "code",
   "execution_count": null,
   "id": "8006c8aa",
   "metadata": {},
   "outputs": [],
   "source": [
    "df = pd.read_csv(r'..\\Data_TFG\\desk_deskdefault\\tfg_counts_desktop.csv',\n",
    "                 index_col=0)\n",
    "df"
   ]
  },
  {
   "cell_type": "code",
   "execution_count": null,
   "id": "a8dd082a",
   "metadata": {},
   "outputs": [],
   "source": [
    "grupos = (pd.DataFrame(df.columns.to_series()\n",
    "             .str.split('_').to_dict())).iloc[0,:].to_list()\n",
    "grupos"
   ]
  },
  {
   "cell_type": "code",
   "execution_count": null,
   "id": "db36cb94",
   "metadata": {},
   "outputs": [],
   "source": [
    "df.sum(axis=1)"
   ]
  },
  {
   "cell_type": "code",
   "execution_count": null,
   "id": "64344c09",
   "metadata": {},
   "outputs": [],
   "source": [
    "unicos, cuentas = np.unique(grupos, return_counts=True)\n",
    "criba = np.min(cuentas)\n",
    "df_criba = df.loc[df.sum(axis=1) > criba, :].T\n",
    "df_criba"
   ]
  },
  {
   "cell_type": "markdown",
   "id": "0ee8da55",
   "metadata": {},
   "source": [
    "Se determinan las OTUs que tengan mayor coeficiente de variación."
   ]
  },
  {
   "cell_type": "code",
   "execution_count": null,
   "id": "3af6ebe4",
   "metadata": {},
   "outputs": [],
   "source": [
    "varotus = pd.concat((\n",
    "    df_criba.mean(axis=0),\n",
    "    df_criba.std(axis=0),\n",
    "    df_criba.std(axis=0).div(df_criba.mean(axis=0))\n",
    "), axis=1)\n",
    "varotus.columns = ['mean', 'std', 'coefvar']\n",
    "varotus"
   ]
  },
  {
   "cell_type": "code",
   "execution_count": null,
   "id": "8985a48b",
   "metadata": {},
   "outputs": [],
   "source": [
    "varotus.describe()"
   ]
  },
  {
   "cell_type": "code",
   "execution_count": null,
   "id": "55934b28",
   "metadata": {},
   "outputs": [],
   "source": [
    "varotus = varotus.sort_values(ascending=False, by='coefvar')\n",
    "plt.figure(figsize=(20,7))\n",
    "varotus.head(50)['coefvar'].plot.bar()\n",
    "plt.grid()"
   ]
  },
  {
   "cell_type": "code",
   "execution_count": null,
   "id": "a36757e5",
   "metadata": {},
   "outputs": [],
   "source": [
    "df_criba = df_criba.loc[:, varotus.head(50).index]\n",
    "df_criba"
   ]
  },
  {
   "cell_type": "markdown",
   "id": "d2c64e21",
   "metadata": {},
   "source": [
    "Transformación CLR"
   ]
  },
  {
   "cell_type": "code",
   "execution_count": null,
   "id": "8b143bfc",
   "metadata": {},
   "outputs": [],
   "source": [
    "from scipy.stats.mstats import gmean\n",
    "df_criba = df_criba.replace(to_replace=0, value=1e-9).div(df_criba.replace(to_replace=0, value=1e-9).apply(gmean, axis=1), axis=0).apply(np.log)  # tabla transformada\n",
    "df_criba"
   ]
  },
  {
   "cell_type": "code",
   "execution_count": null,
   "id": "5818d473",
   "metadata": {},
   "outputs": [],
   "source": [
    "print(df_criba.sum(axis=1))\n",
    "print('')\n",
    "print(df_criba.sum(axis=1).describe())"
   ]
  },
  {
   "cell_type": "code",
   "execution_count": null,
   "id": "702f5616",
   "metadata": {},
   "outputs": [],
   "source": [
    "from sklearn.preprocessing import StandardScaler\n",
    "escala = StandardScaler()\n",
    "dfesc = escala.fit_transform(df_criba)"
   ]
  },
  {
   "cell_type": "markdown",
   "id": "59574af4",
   "metadata": {},
   "source": [
    "## *Clustering* no supervisado mediante *KMeans*"
   ]
  },
  {
   "cell_type": "code",
   "execution_count": null,
   "id": "32cf1235",
   "metadata": {},
   "outputs": [],
   "source": [
    "from sklearn.cluster import KMeans\n",
    "kmeans = KMeans(n_clusters=2, random_state=27)\n",
    "kmeans.fit(dfesc)"
   ]
  },
  {
   "cell_type": "code",
   "execution_count": null,
   "id": "653efc4d",
   "metadata": {},
   "outputs": [],
   "source": [
    "pd.DataFrame({\n",
    "    'actual_group': grupos,\n",
    "    'predicted_group': kmeans.labels_\n",
    "})"
   ]
  },
  {
   "cell_type": "code",
   "execution_count": null,
   "id": "31e55d65",
   "metadata": {},
   "outputs": [],
   "source": [
    "pd.crosstab(grupos, kmeans.labels_)"
   ]
  },
  {
   "cell_type": "markdown",
   "id": "dd1980fd",
   "metadata": {},
   "source": [
    "## Análisis de componentes principales (PCA)"
   ]
  },
  {
   "cell_type": "code",
   "execution_count": null,
   "id": "96d2d77f",
   "metadata": {},
   "outputs": [],
   "source": [
    "from sklearn.decomposition import PCA\n",
    "mipca = PCA(n_components=7)\n",
    "desc = mipca.fit_transform(dfesc)"
   ]
  },
  {
   "cell_type": "code",
   "execution_count": null,
   "id": "7c9ab5e1",
   "metadata": {},
   "outputs": [],
   "source": [
    "plt.bar(x = [f'PC{i}' for i in range(1,8)],\n",
    "        height = mipca.explained_variance_ratio_)\n",
    "plt.ylabel('varianza explicada (%)')"
   ]
  },
  {
   "cell_type": "code",
   "execution_count": null,
   "id": "6ced1c22",
   "metadata": {},
   "outputs": [],
   "source": [
    "import seaborn as sns\n",
    "sns.scatterplot(x=desc[:,0], y=desc[:,1], hue=grupos)\n",
    "plt.xlabel('PC1')\n",
    "plt.ylabel('PC2')\n",
    "plt.title('Análisis de componentes principales')\n",
    "#plt.xlim((-5,5))\n",
    "#plt.ylim((30.3,30.4))\n",
    "plt.legend()\n",
    "plt.grid()"
   ]
  },
  {
   "cell_type": "code",
   "execution_count": null,
   "id": "cda9c7c8",
   "metadata": {},
   "outputs": [],
   "source": [
    "import seaborn as sns\n",
    "sns.scatterplot(x=desc[:,0], y=desc[:,2], hue=grupos)\n",
    "plt.xlabel('PC1')\n",
    "plt.ylabel('PC3')\n",
    "plt.title('Análisis de componentes principales')\n",
    "plt.legend()\n",
    "plt.grid()"
   ]
  },
  {
   "cell_type": "code",
   "execution_count": null,
   "id": "9378d7f7",
   "metadata": {},
   "outputs": [],
   "source": [
    "import seaborn as sns\n",
    "sns.scatterplot(x=desc[:,1], y=desc[:,2], hue=grupos)\n",
    "plt.xlabel('PC2')\n",
    "plt.ylabel('PC3')\n",
    "plt.title('Análisis de componentes principales')\n",
    "plt.legend()\n",
    "plt.grid()"
   ]
  },
  {
   "cell_type": "markdown",
   "id": "b176cfa6",
   "metadata": {},
   "source": [
    "## *t-distributed Stochastic Neighbor Embedding* (tSNE)"
   ]
  },
  {
   "cell_type": "code",
   "execution_count": null,
   "id": "6b064405",
   "metadata": {},
   "outputs": [],
   "source": [
    "from sklearn.manifold import TSNE\n",
    "tsne = TSNE(n_components=2, random_state=42, perplexity=10)\n",
    "esp2d = tsne.fit_transform(dfesc)"
   ]
  },
  {
   "cell_type": "code",
   "execution_count": null,
   "id": "2fa14699",
   "metadata": {},
   "outputs": [],
   "source": [
    "sns.scatterplot(x=esp2d[:,0], y=esp2d[:,1], hue=grupos)\n",
    "plt.title('TSNE')\n",
    "plt.legend()\n",
    "plt.grid()"
   ]
  },
  {
   "cell_type": "markdown",
   "id": "43cbb6bf",
   "metadata": {},
   "source": [
    "## *Gaussian Mixture Models*"
   ]
  },
  {
   "cell_type": "code",
   "execution_count": null,
   "id": "e0b76b86",
   "metadata": {},
   "outputs": [],
   "source": [
    "from sklearn.mixture import GaussianMixture\n",
    "migmm = GaussianMixture(n_components=2, random_state=42)\n",
    "migmm.fit(dfesc)"
   ]
  },
  {
   "cell_type": "code",
   "execution_count": null,
   "id": "6ea54b5f",
   "metadata": {},
   "outputs": [],
   "source": [
    "pd.crosstab(grupos, migmm.predict(dfesc))"
   ]
  },
  {
   "cell_type": "markdown",
   "id": "619c5d95",
   "metadata": {},
   "source": [
    "# Diversidad beta"
   ]
  },
  {
   "cell_type": "code",
   "execution_count": null,
   "id": "092caf2e",
   "metadata": {},
   "outputs": [],
   "source": [
    "from scipy.spatial.distance import pdist, squareform\n",
    "distmat = pdist(dfesc, metric='euclidean')\n",
    "distmat = squareform(distmat)\n",
    "plt.figure(figsize=(12,8))\n",
    "sns.heatmap(distmat, cmap='viridis', xticklabels=np.sort(grupo), yticklabels=np.sort(grupo));"
   ]
  }
 ],
 "metadata": {
  "language_info": {
   "name": "python"
  }
 },
 "nbformat": 4,
 "nbformat_minor": 5
}
